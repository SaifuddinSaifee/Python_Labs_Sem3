{
 "cells": [
  {
   "cell_type": "markdown",
   "metadata": {},
   "source": [
    "# LAB 8 : Program to count frequency of words appearing in a string using a dictionary\n",
    "\n",
    "**Program Logic**\n",
    "\n",
    "1. Write a function with string as a parameter\n",
    "    1. Split the string using `split()` function \n",
    "    2. Declare a list variable and initialize it to to an empty list\n",
    "    3. Iterate for loop to find unique word and store it to an empty list\n",
    "    5. Iterate for loop to merge two list in dictioary\n",
    "    6. Return the dictionary\n",
    "\n",
    "2. Write a driver code to take input from user\n",
    "3. Call the function and print the dictionary"
   ]
  },
  {
   "cell_type": "markdown",
   "metadata": {},
   "source": [
    "## Write the function for counting words"
   ]
  },
  {
   "cell_type": "code",
   "execution_count": 16,
   "metadata": {},
   "outputs": [],
   "source": [
    "def count_word(str):\n",
    "    \n",
    "    str = str.split() # convert string into list\n",
    "    \n",
    "    unique_word = []  # storing unique word in string\n",
    "    \n",
    "    count_list = []   # to store frequency of word\n",
    "    \n",
    "    dict = {}         # to store the {word : frequncy}\n",
    "    \n",
    "    # find unique words from str\n",
    "    for i in str:\n",
    "        if i not in unique_word:\n",
    "            unique_word.append(i)\n",
    "    \n",
    "    # find frequency of word from str\n",
    "    for j in unique_word:\n",
    "        counter = str.count(j)\n",
    "        count_list.append(counter)\n",
    "    \n",
    "    # form a list of these unique words and frequency\n",
    "    for i in range(len(unique_word)):\n",
    "        dict[unique_word[i]] = count_list[i]\n",
    "    \n",
    "    return dict"
   ]
  },
  {
   "cell_type": "markdown",
   "metadata": {},
   "source": [
    "## Write the driver code and call the function"
   ]
  },
  {
   "cell_type": "code",
   "execution_count": 18,
   "metadata": {},
   "outputs": [
    {
     "name": "stdout",
     "output_type": "stream",
     "text": [
      "Enter the String: Apple Banana Mango Apple Orange Potato Potato Mango Mango\n",
      "Dictionary with words and it's frequencdy\n",
      "{'Apple': 2, 'Banana': 1, 'Mango': 3, 'Orange': 1, 'Potato': 2}\n"
     ]
    }
   ],
   "source": [
    "if __name__ == '__main__':\n",
    "    str = input(\"Enter the String: \") # Input is \"Apple Banana Mango Apple Orange Potato Potato Mango Mango\"\n",
    "    \n",
    "    print(\"Dictionary with words and it's frequencdy\")\n",
    "    print(count_word(str))"
   ]
  },
  {
   "cell_type": "code",
   "execution_count": null,
   "metadata": {},
   "outputs": [],
   "source": []
  }
 ],
 "metadata": {
  "kernelspec": {
   "display_name": "Python 3",
   "language": "python",
   "name": "python3"
  },
  "language_info": {
   "codemirror_mode": {
    "name": "ipython",
    "version": 3
   },
   "file_extension": ".py",
   "mimetype": "text/x-python",
   "name": "python",
   "nbconvert_exporter": "python",
   "pygments_lexer": "ipython3",
   "version": "3.7.3"
  }
 },
 "nbformat": 4,
 "nbformat_minor": 2
}
