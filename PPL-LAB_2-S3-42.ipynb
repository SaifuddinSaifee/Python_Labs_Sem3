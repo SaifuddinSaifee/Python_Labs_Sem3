{
 "cells": [
  {
   "cell_type": "markdown",
   "metadata": {},
   "source": [
    "# LAB 2: Program to find the union of two lists."
   ]
  },
  {
   "cell_type": "markdown",
   "metadata": {},
   "source": [
    "**Program Logic**\n",
    "1. Ask user to  input two list\n",
    "2. Print two list\n",
    "3. Apply the different methods to concatinate or union of two list\n",
    "4. Print the joined list"
   ]
  },
  {
   "cell_type": "markdown",
   "metadata": {},
   "source": [
    "## Input the first list"
   ]
  },
  {
   "cell_type": "code",
   "execution_count": 7,
   "metadata": {},
   "outputs": [
    {
     "name": "stdout",
     "output_type": "stream",
     "text": [
      "Enter size of list 1: 6\n",
      "Enter Element: \n",
      "1\n",
      "Enter Element: \n",
      "2\n",
      "Enter Element: \n",
      "3\n",
      "Enter Element: \n",
      "4\n",
      "Enter Element: \n",
      "5\n",
      "Enter Element: \n",
      "6\n"
     ]
    }
   ],
   "source": [
    "list1=[]\n",
    "size1=int(input(\"Enter size of list 1: \"))\n",
    "\n",
    "for i in range(size1):\n",
    "    num1 = input(\"Enter Element: \\n\")\n",
    "    list1.append(num1)"
   ]
  },
  {
   "cell_type": "markdown",
   "metadata": {},
   "source": [
    "## Input the Second list"
   ]
  },
  {
   "cell_type": "code",
   "execution_count": 8,
   "metadata": {},
   "outputs": [
    {
     "name": "stdout",
     "output_type": "stream",
     "text": [
      "Enter size of list 2: 6\n",
      "Enter Element: \n",
      "4\n",
      "Enter Element: \n",
      "5\n",
      "Enter Element: \n",
      "6\n",
      "Enter Element: \n",
      "7\n",
      "Enter Element: \n",
      "8\n",
      "Enter Element: \n",
      "9\n"
     ]
    }
   ],
   "source": [
    "list2=[]\n",
    "size2=int(input(\"Enter size of list 2: \"))\n",
    "\n",
    "for i in range(size2):\n",
    "    num2 = input(\"Enter Element: \\n\")\n",
    "    list2.append(num2)"
   ]
  },
  {
   "cell_type": "markdown",
   "metadata": {},
   "source": [
    "## Methods to *Concatinate* two lists"
   ]
  },
  {
   "cell_type": "markdown",
   "metadata": {},
   "source": [
    "### Method 1: using \"+\" operator"
   ]
  },
  {
   "cell_type": "code",
   "execution_count": 9,
   "metadata": {},
   "outputs": [
    {
     "name": "stdout",
     "output_type": "stream",
     "text": [
      "Concatination of\n",
      " list 1: ['1', '2', '3', '4', '5', '6'] and\n",
      " list 2: ['4', '5', '6', '7', '8', '9'] is\n",
      " ['1', '2', '3', '4', '5', '6', '4', '5', '6', '7', '8', '9']\n"
     ]
    }
   ],
   "source": [
    "con_list1 = list1 + list2\n",
    "print(\"Concatination of\\n list 1: {} and\\n list 2: {} is\\n {}\".format(list1, list2, con_list1))"
   ]
  },
  {
   "cell_type": "markdown",
   "metadata": {},
   "source": [
    "### Method 2: using \"*\" operator"
   ]
  },
  {
   "cell_type": "code",
   "execution_count": 10,
   "metadata": {},
   "outputs": [
    {
     "name": "stdout",
     "output_type": "stream",
     "text": [
      "Concatination of\n",
      " list 1: ['1', '2', '3', '4', '5', '6'] and\n",
      " list 2: ['4', '5', '6', '7', '8', '9'] is\n",
      " ['1', '2', '3', '4', '5', '6', '4', '5', '6', '7', '8', '9']\n"
     ]
    }
   ],
   "source": [
    "con_list2 = [*list1,*list2]\n",
    "print(\"Concatination of\\n list 1: {} and\\n list 2: {} is\\n {}\".format(list1, list2, con_list2))"
   ]
  },
  {
   "cell_type": "markdown",
   "metadata": {},
   "source": [
    "### Method 3: using extend()"
   ]
  },
  {
   "cell_type": "code",
   "execution_count": 11,
   "metadata": {},
   "outputs": [
    {
     "name": "stdout",
     "output_type": "stream",
     "text": [
      "Concatination of\n",
      " list 1: ['1', '2', '3', '4', '5', '6', '4', '5', '6', '7', '8', '9'] and\n",
      " list 2: ['4', '5', '6', '7', '8', '9'] is\n",
      " ['1', '2', '3', '4', '5', '6', '4', '5', '6', '7', '8', '9']\n"
     ]
    }
   ],
   "source": [
    "con_list3 = list1\n",
    "con_list3.extend(list2)\n",
    "print(\"Concatination of\\n list 1: {} and\\n list 2: {} is\\n {}\".format(list1,list2,con_list3))"
   ]
  },
  {
   "cell_type": "markdown",
   "metadata": {},
   "source": [
    "### Method 4: using itertools.chain"
   ]
  },
  {
   "cell_type": "code",
   "execution_count": 12,
   "metadata": {},
   "outputs": [
    {
     "name": "stdout",
     "output_type": "stream",
     "text": [
      "Concatination of\n",
      " list 1: ['1', '2', '3', '4', '5', '6', '4', '5', '6', '7', '8', '9'] and\n",
      " list 2: ['4', '5', '6', '7', '8', '9'] is\n",
      " ['1', '2', '3', '4', '5', '6', '4', '5', '6', '7', '8', '9', '4', '5', '6', '7', '8', '9']\n"
     ]
    }
   ],
   "source": [
    "import itertools\n",
    "con_list4 = list(itertools.chain(list1,list2))\n",
    "print(\"Concatination of\\n list 1: {} and\\n list 2: {} is\\n {}\".format(list1,list2,con_list4))"
   ]
  },
  {
   "cell_type": "markdown",
   "metadata": {},
   "source": [
    "### Method 5: using append()"
   ]
  },
  {
   "cell_type": "code",
   "execution_count": 13,
   "metadata": {},
   "outputs": [
    {
     "name": "stdout",
     "output_type": "stream",
     "text": [
      "1st list is ['1', '2', '3', '4', '5', '6', '4', '5', '6', '7', '8', '9'] \t\n",
      "2nd list is ['4', '5', '6', '7', '8', '9'] \t\n",
      "Appended list is ['1', '2', '3', '4', '5', '6', '4', '5', '6', '7', '8', '9', '4', '5', '6', '7', '8', '9']\n"
     ]
    }
   ],
   "source": [
    "print(\"1st list is\",list1,\"\\t\")\n",
    "print(\"2nd list is\",list2,\"\\t\")\n",
    "con_list3 = list1\n",
    "for i in list2:\n",
    "    con_list3.append(i)\n",
    "print(\"Appended list is\",con_list3 )"
   ]
  },
  {
   "cell_type": "markdown",
   "metadata": {},
   "source": [
    "## Union of list"
   ]
  },
  {
   "cell_type": "code",
   "execution_count": 14,
   "metadata": {},
   "outputs": [
    {
     "name": "stdout",
     "output_type": "stream",
     "text": [
      "Union of\n",
      " list 1: ['1', '2', '3', '4', '5', '6', '4', '5', '6', '7', '8', '9', '4', '5', '6', '7', '8', '9'] and\n",
      " list 2: ['4', '5', '6', '7', '8', '9'] is\n",
      " ['4', '7', '9', '6', '3', '8', '5', '1', '2']\n"
     ]
    }
   ],
   "source": [
    "union_list = list(set(list1+list2))\n",
    "print(\"Union of\\n list 1: {} and\\n list 2: {} is\\n {}\".format(list1,list2,union_list))"
   ]
  },
  {
   "cell_type": "markdown",
   "metadata": {},
   "source": [
    "### Task: Write a program to find the union of two list using different methods, define in a function"
   ]
  }
 ],
 "metadata": {
  "kernelspec": {
   "display_name": "Python 3",
   "language": "python",
   "name": "python3"
  },
  "language_info": {
   "codemirror_mode": {
    "name": "ipython",
    "version": 3
   },
   "file_extension": ".py",
   "mimetype": "text/x-python",
   "name": "python",
   "nbconvert_exporter": "python",
   "pygments_lexer": "ipython3",
   "version": "3.7.3"
  }
 },
 "nbformat": 4,
 "nbformat_minor": 2
}
