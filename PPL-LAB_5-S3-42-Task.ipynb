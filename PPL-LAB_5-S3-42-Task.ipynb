{
 "cells": [
  {
   "cell_type": "markdown",
   "metadata": {},
   "source": [
    "# Lab 5\n",
    "## Task : Write a program to count theoccurence of user inputed word in a given string paragraph also print the most occured and least occured word from that paragraph.\n",
    "\n",
    "***Program Logic***\n",
    "\n",
    "1. Write the function to count the occurence of word in a string and print the maximum and minimum occured word in a list\n",
    "2. Write the main() function\n",
    "    - Input the word to count its occurence\n",
    "3. Write the driver code"
   ]
  },
  {
   "cell_type": "markdown",
   "metadata": {},
   "source": [
    "### Write function"
   ]
  },
  {
   "cell_type": "code",
   "execution_count": 13,
   "metadata": {},
   "outputs": [],
   "source": [
    "def count_occurence(string,w):\n",
    "    str = string.split()\n",
    "    max_count = str[0]\n",
    "    min_count = str[0]\n",
    "    for i in str:\n",
    "        if str.count(i)>str.count(max_count):\n",
    "            max_count = i\n",
    "        if str.count(i)<str.count(min_count):\n",
    "            min_count = i\n",
    "    print(\"Occurance of word \",w,\" is \",str.count(w))\n",
    "    print(\"Word occured most time in string is \",max_count)\n",
    "    print(\"Word occured least time in string is \",min_count)"
   ]
  },
  {
   "cell_type": "markdown",
   "metadata": {},
   "source": [
    "### Main function"
   ]
  },
  {
   "cell_type": "code",
   "execution_count": 14,
   "metadata": {},
   "outputs": [],
   "source": [
    "def main():\n",
    "    string = input(\"Enter the String : \")\n",
    "    w = input(\"Enter the word to count the number of occurance : \")\n",
    "    count_occurence(string,w)"
   ]
  },
  {
   "cell_type": "markdown",
   "metadata": {},
   "source": [
    "### Driver Code"
   ]
  },
  {
   "cell_type": "code",
   "execution_count": 17,
   "metadata": {},
   "outputs": [
    {
     "name": "stdout",
     "output_type": "stream",
     "text": [
      "Enter the String : apple mango apple mango pineapple banana mango orange pineapple orange\n",
      "Enter the word to count the number of occurance : mango\n",
      "Occurance of word  mango  is  3\n",
      "Word occured most time in string is  mango\n",
      "Word occured least time in string is  banana\n"
     ]
    }
   ],
   "source": [
    "if __name__=='__main__':\n",
    "    main()"
   ]
  },
  {
   "cell_type": "code",
   "execution_count": null,
   "metadata": {},
   "outputs": [],
   "source": []
  }
 ],
 "metadata": {
  "kernelspec": {
   "display_name": "Python 3",
   "language": "python",
   "name": "python3"
  },
  "language_info": {
   "codemirror_mode": {
    "name": "ipython",
    "version": 3
   },
   "file_extension": ".py",
   "mimetype": "text/x-python",
   "name": "python",
   "nbconvert_exporter": "python",
   "pygments_lexer": "ipython3",
   "version": "3.7.3"
  }
 },
 "nbformat": 4,
 "nbformat_minor": 2
}
