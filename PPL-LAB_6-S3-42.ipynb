{
 "cells": [
  {
   "cell_type": "markdown",
   "metadata": {},
   "source": [
    "# LAB 6 : Program to check if a substring is present in a given string.\n",
    "\n",
    "***Program Logic***\n",
    "\n",
    "1. Write a function to check id substring is present in a given string\n",
    "    1. Define three local variable\n",
    "        1. temp to track the substring match\n",
    "        2. len for length of given string\n",
    "        3. i for indexing\n",
    "    2. Iterate for loop upto length for str i.e len with the following condition\n",
    "        1. if temp == length of substring then break\n",
    "        2. if string index and substring index match increment temp\n",
    "        3. else reset temp to 0\n",
    "        \n",
    "    3. for returning\n",
    "        1. check if temp lemgth is less than length of substring then return -1\n",
    "        2. else return index as (i-t)\n",
    "        \n",
    "    4. Write main function driver code"
   ]
  },
  {
   "cell_type": "markdown",
   "metadata": {},
   "source": [
    "## Define a function"
   ]
  },
  {
   "cell_type": "code",
   "execution_count": 13,
   "metadata": {},
   "outputs": [],
   "source": [
    "def find_substring(str, substr):\n",
    "    i=0\n",
    "    t=0\n",
    "    L=len(str)\n",
    "    \n",
    "    for i in range (L): ## iterate upto length of string -1\n",
    "        if t == len(substr):\n",
    "            break\n",
    "        if substr[t]==str[i]:\n",
    "            t += 1\n",
    "        else:\n",
    "            t=0\n",
    "\n",
    "        if t < len(substr):\n",
    "            return -1\n",
    "        else:\n",
    "            return (i-t)"
   ]
  },
  {
   "cell_type": "markdown",
   "metadata": {},
   "source": [
    "## Driver Code"
   ]
  },
  {
   "cell_type": "code",
   "execution_count": 16,
   "metadata": {},
   "outputs": [
    {
     "name": "stdout",
     "output_type": "stream",
     "text": [
      "Tech is not a substring of given string -1\n"
     ]
    }
   ],
   "source": [
    "if __name__ == '__main__':\n",
    "    str = \"SVKM's Institute of Technology\"\n",
    "    substr = \"Tech\"\n",
    "    rep = find_substring(str, substr)\n",
    "    \n",
    "    if rep == -1:\n",
    "        print(\"{} is not a substring of given string {}\" .format(substr, rep))\n",
    "    else:\n",
    "        print(\"{} is present in given string at {}\" .format(substr, rep))"
   ]
  },
  {
   "cell_type": "markdown",
   "metadata": {},
   "source": [
    "- First 22 March\n",
    "- SECONd 5 April\n",
    "- THRIST and FOURTH 6 APRIL\n",
    "- five 26 april\n",
    "- practical 6 saturday 30th april"
   ]
  },
  {
   "cell_type": "code",
   "execution_count": null,
   "metadata": {},
   "outputs": [],
   "source": []
  }
 ],
 "metadata": {
  "kernelspec": {
   "display_name": "Python 3",
   "language": "python",
   "name": "python3"
  },
  "language_info": {
   "codemirror_mode": {
    "name": "ipython",
    "version": 3
   },
   "file_extension": ".py",
   "mimetype": "text/x-python",
   "name": "python",
   "nbconvert_exporter": "python",
   "pygments_lexer": "ipython3",
   "version": "3.7.3"
  }
 },
 "nbformat": 4,
 "nbformat_minor": 2
}
