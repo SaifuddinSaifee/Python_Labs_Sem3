{
 "cells": [
  {
   "cell_type": "markdown",
   "metadata": {},
   "source": [
    "# LAB 6 Task 1: Program to find substring is present in a given string using regular expression.\n",
    "\n",
    "***Program Logic***\n",
    "\n",
    "- Import the `re` module\n",
    "- Declare 2 strings\n",
    "- Use string `find()` function to find the substring "
   ]
  },
  {
   "cell_type": "code",
   "execution_count": 1,
   "metadata": {},
   "outputs": [
    {
     "name": "stdout",
     "output_type": "stream",
     "text": [
      "Substring found\n",
      "Substring is present at index  12\n"
     ]
    }
   ],
   "source": [
    "import re\n",
    "\n",
    "string_1 = \"The fox climbed over the wall\"\n",
    "string_2 = \"bed\"\n",
    "\n",
    "if (string_1.find(string_2) != -1):\n",
    "    print(\"Substring found\")\n",
    "    print(\"Substring is present at index \", string_1.find(string_2))\n",
    "else:\n",
    "    print(\"Substring not found\")\n"
   ]
  },
  {
   "cell_type": "code",
   "execution_count": null,
   "metadata": {},
   "outputs": [],
   "source": []
  },
  {
   "cell_type": "markdown",
   "metadata": {},
   "source": [
    "# LAB 6 Task 2: Program to find substring is present in a given string and count its occurence without using `list`"
   ]
  },
  {
   "cell_type": "markdown",
   "metadata": {},
   "source": [
    "***Program Logic***\n",
    "\n",
    "1. Take string input from user\n",
    "2. Use find() string function to check if the string is present\n",
    "3. use count() string function to count the number of occurence of given substring"
   ]
  },
  {
   "cell_type": "code",
   "execution_count": 3,
   "metadata": {},
   "outputs": [
    {
     "name": "stdout",
     "output_type": "stream",
     "text": [
      "Enter the string: Near an ear, a nearer ear, a nearly eerie ear\n",
      "Enter the word: ear\n",
      "String comtains the substring\n",
      "The count is:  6\n"
     ]
    }
   ],
   "source": [
    "myString = input(\"Enter the string: \")\n",
    "word = input(\"Enter the word: \")\n",
    "\n",
    "if (myString.find(word) != -1):\n",
    "    print(\"String comtains the substring\")\n",
    "    \n",
    "else:\n",
    "    print(\"String does not contain the substring\")\n",
    "\n",
    "count = myString.count(word)\n",
    "print(\"The count is: \", count)\n"
   ]
  },
  {
   "cell_type": "code",
   "execution_count": null,
   "metadata": {},
   "outputs": [],
   "source": []
  }
 ],
 "metadata": {
  "kernelspec": {
   "display_name": "Python 3",
   "language": "python",
   "name": "python3"
  },
  "language_info": {
   "codemirror_mode": {
    "name": "ipython",
    "version": 3
   },
   "file_extension": ".py",
   "mimetype": "text/x-python",
   "name": "python",
   "nbconvert_exporter": "python",
   "pygments_lexer": "ipython3",
   "version": "3.7.3"
  }
 },
 "nbformat": 4,
 "nbformat_minor": 2
}
