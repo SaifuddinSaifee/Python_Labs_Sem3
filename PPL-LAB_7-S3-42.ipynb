{
 "cells": [
  {
   "cell_type": "markdown",
   "metadata": {},
   "source": [
    "# LAB 7 : Program to map two lists into a dictionary\n",
    "\n",
    "**Program Logic**\n",
    "\n",
    "1. Declare an empty `dictionary`.\n",
    "2. Declare two lists.\n",
    "3. Iterate the `for` loops to create dictionary.\n",
    "4. Print the dictionary"
   ]
  },
  {
   "cell_type": "markdown",
   "metadata": {},
   "source": [
    "## Declare dictionary and lists"
   ]
  },
  {
   "cell_type": "code",
   "execution_count": 5,
   "metadata": {},
   "outputs": [],
   "source": [
    "dict = {}\n",
    "key_list = [\"A\", \"B\", \"c\", \"D\", \"E\"]\n",
    "value_list = [\"Apple\", \"Banana\", \"Cat\", \"Dog\", \"Elephant\"]"
   ]
  },
  {
   "cell_type": "code",
   "execution_count": 6,
   "metadata": {},
   "outputs": [],
   "source": [
    "for i in range(len(key_list)):\n",
    "    dict[key_list[i]] = value_list[i]"
   ]
  },
  {
   "cell_type": "code",
   "execution_count": 7,
   "metadata": {},
   "outputs": [
    {
     "name": "stdout",
     "output_type": "stream",
     "text": [
      "The Dictionary from the given two list: \n",
      "{'A': 'Apple', 'B': 'Banana', 'c': 'Cat', 'D': 'Dog', 'E': 'Elephant'}\n"
     ]
    }
   ],
   "source": [
    "print(\"The Dictionary from the given two list: \")\n",
    "print(dict)"
   ]
  },
  {
   "cell_type": "markdown",
   "metadata": {},
   "source": [
    "## TASK\n",
    "\n",
    "### Task 1 : Write a program to map two lists into a dictionary, using one-line for loop.\n",
    "### Task 2 : Write a program to map one list into a dictionary, *even index as keys, odd index as value*.\n",
    "\n",
    "### Theory\n",
    "- What is dictionary\n",
    "- How to access the elements in dictionary\n",
    "- Any five functions related to dictionary"
   ]
  },
  {
   "cell_type": "markdown",
   "metadata": {},
   "source": []
  }
 ],
 "metadata": {
  "kernelspec": {
   "display_name": "Python 3",
   "language": "python",
   "name": "python3"
  },
  "language_info": {
   "codemirror_mode": {
    "name": "ipython",
    "version": 3
   },
   "file_extension": ".py",
   "mimetype": "text/x-python",
   "name": "python",
   "nbconvert_exporter": "python",
   "pygments_lexer": "ipython3",
   "version": "3.7.3"
  }
 },
 "nbformat": 4,
 "nbformat_minor": 2
}
