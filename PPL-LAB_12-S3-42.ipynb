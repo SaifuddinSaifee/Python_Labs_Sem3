{
 "cells": [
  {
   "cell_type": "markdown",
   "metadata": {},
   "source": [
    "# LAB12 : Program to read a file and capitalize the first letter of every word in the file\n",
    "\n",
    "**Program Logic**\n",
    "\n",
    "1. Take the file name from the user.\n",
    "2. Read each line from the file and use the tile() function to capitalize each word in the line.\n",
    "3. Print the altered lines of the file.\n",
    "4. Exit"
   ]
  },
  {
   "cell_type": "code",
   "execution_count": 3,
   "metadata": {},
   "outputs": [
    {
     "name": "stdout",
     "output_type": "stream",
     "text": [
      "Enter file name: lab12.txt\n",
      "h\n",
      "h\n",
      "i\n",
      "n\n",
      "u\n"
     ]
    }
   ],
   "source": [
    "file_name = input(\"Enter file name: \")\n",
    "\n",
    "# `with` keyword is used to remove the need to close the file explicitly\n",
    "# We alias our opened file as f\n",
    "# r for read mode\n",
    "\n",
    "with open(file_name, 'r') as f:\n",
    "    for line in f:\n",
    "        l = line.title()    # title() function to capitalized each word\n",
    "        print(line[1])"
   ]
  },
  {
   "cell_type": "markdown",
   "metadata": {},
   "source": [
    "# TASK 1 : Write a program to read a file an capitalize the first letter of every eord in the file without using the `title()` function"
   ]
  },
  {
   "cell_type": "markdown",
   "metadata": {},
   "source": [
    "# TASK 2 : Write a program to read a file an ask the user in which format they want to display the content of file.\n",
    "\n",
    "### Case 1 : Each word first character in uppercase\n",
    "### Case 2 : Display content in Uppercase\n",
    "### Case 3 : Display content in lowercase\n",
    "### Case 4 : Display content in togglecase"
   ]
  },
  {
   "cell_type": "markdown",
   "metadata": {},
   "source": [
    "# THEORY\n",
    "\n",
    "### File open\n",
    "### FIle close\n",
    "### And other file functions\n",
    "### exceptions in python"
   ]
  },
  {
   "cell_type": "code",
   "execution_count": null,
   "metadata": {},
   "outputs": [],
   "source": []
  }
 ],
 "metadata": {
  "kernelspec": {
   "display_name": "Python 3",
   "language": "python",
   "name": "python3"
  }
 },
 "nbformat": 4,
 "nbformat_minor": 2
}
