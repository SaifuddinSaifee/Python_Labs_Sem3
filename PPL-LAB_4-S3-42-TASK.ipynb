{
 "cells": [
  {
   "cell_type": "markdown",
   "metadata": {},
   "source": [
    "# TASK 1 : Program to remove the — ith occurence of the given word in a list where words repeat by using `del()` function and put the result in a different list. Check whether deletion is successful or not (Print a msg).\n"
   ]
  },
  {
   "cell_type": "markdown",
   "metadata": {},
   "source": [
    "## Define function"
   ]
  },
  {
   "cell_type": "code",
   "execution_count": 1,
   "metadata": {},
   "outputs": [],
   "source": [
    "def remove_word_task1(my_list, word, i):\n",
    "    count = 0    # for counting the occurence of words\n",
    "    index = 0    # for counting where we are at present\n",
    "    \n",
    "    for j in my_list:\n",
    "        index += 1\n",
    "        if j == word:\n",
    "            count += 1\n",
    "            if count == i:\n",
    "                del(my_list[index-1])\n",
    "    return my_list"
   ]
  },
  {
   "cell_type": "markdown",
   "metadata": {},
   "source": [
    "## Initialize the list"
   ]
  },
  {
   "cell_type": "code",
   "execution_count": 2,
   "metadata": {},
   "outputs": [],
   "source": [
    "list1 = ['my', 'I', 'do', 'my', 'he', 'she', 'my', 'he']\n",
    "list2 = list1.copy()"
   ]
  },
  {
   "cell_type": "markdown",
   "metadata": {},
   "source": [
    "## We initialize word with its ith occurence"
   ]
  },
  {
   "cell_type": "code",
   "execution_count": 3,
   "metadata": {},
   "outputs": [],
   "source": [
    "word = 'my'\n",
    "n = 3"
   ]
  },
  {
   "cell_type": "markdown",
   "metadata": {},
   "source": [
    "## Calling the function"
   ]
  },
  {
   "cell_type": "code",
   "execution_count": 4,
   "metadata": {
    "scrolled": true
   },
   "outputs": [
    {
     "name": "stdout",
     "output_type": "stream",
     "text": [
      "['my', 'I', 'do', 'my', 'he', 'she', 'he']\n",
      "['my', 'I', 'do', 'my', 'he', 'she', 'he']\n"
     ]
    }
   ],
   "source": [
    "list2 = remove_word_task1(list2, word, n)\n",
    "print(list2)\n",
    "print(list1)\n"
   ]
  },
  {
   "cell_type": "markdown",
   "metadata": {},
   "source": [
    "# TASK 2 : Perform the Above task except deletion must be performed in the same list."
   ]
  },
  {
   "cell_type": "markdown",
   "metadata": {},
   "source": [
    "## Define function"
   ]
  },
  {
   "cell_type": "code",
   "execution_count": 42,
   "metadata": {},
   "outputs": [],
   "source": [
    "def remove_word_task2(my_list, word, i):\n",
    "    count = 0    # for counting the occurence of words\n",
    "    index = 0    # for counting where we are at present\n",
    "    \n",
    "    for j in my_list:\n",
    "        index += 1\n",
    "        if j == word:\n",
    "            count += 1\n",
    "            if count == i:\n",
    "                del(my_list[index-1])\n",
    "    return my_list"
   ]
  },
  {
   "cell_type": "markdown",
   "metadata": {},
   "source": [
    "## Initialize the list"
   ]
  },
  {
   "cell_type": "code",
   "execution_count": 46,
   "metadata": {},
   "outputs": [],
   "source": [
    "list1 = ['my', 'I', 'do', 'my', 'he', 'she', 'my', 'he']\n",
    "lenList1 = len(list1)"
   ]
  },
  {
   "cell_type": "markdown",
   "metadata": {},
   "source": [
    "## We initialize word with its ith occurence"
   ]
  },
  {
   "cell_type": "code",
   "execution_count": 44,
   "metadata": {},
   "outputs": [],
   "source": [
    "word = 'my'\n",
    "n = 3"
   ]
  },
  {
   "cell_type": "markdown",
   "metadata": {},
   "source": [
    "## Calling the function"
   ]
  },
  {
   "cell_type": "code",
   "execution_count": 45,
   "metadata": {
    "scrolled": true
   },
   "outputs": [
    {
     "name": "stdout",
     "output_type": "stream",
     "text": [
      "['my', 'I', 'do', 'my', 'he', 'she', 'he']\n",
      "Deletion was successful :)\n"
     ]
    }
   ],
   "source": [
    "remove_word(list1, word, n)\n",
    "print(list1)\n",
    "if (lenList1>len(list1)):\n",
    "    print(\"Deletion was successful :)\")\n",
    "else : \n",
    "    print(\"Couldn't delete :(\")"
   ]
  },
  {
   "cell_type": "code",
   "execution_count": null,
   "metadata": {},
   "outputs": [],
   "source": []
  }
 ],
 "metadata": {
  "kernelspec": {
   "display_name": "Python 3",
   "language": "python",
   "name": "python3"
  },
  "language_info": {
   "codemirror_mode": {
    "name": "ipython",
    "version": 3
   },
   "file_extension": ".py",
   "mimetype": "text/x-python",
   "name": "python",
   "nbconvert_exporter": "python",
   "pygments_lexer": "ipython3",
   "version": "3.7.3"
  }
 },
 "nbformat": 4,
 "nbformat_minor": 2
}
