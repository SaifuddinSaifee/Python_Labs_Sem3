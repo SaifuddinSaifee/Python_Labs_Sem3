{
 "cells": [
  {
   "cell_type": "markdown",
   "metadata": {},
   "source": [
    "# LAB 1- Program to calculate area of triangle, rectangle and circle"
   ]
  },
  {
   "cell_type": "markdown",
   "metadata": {},
   "source": [
    "**Logic of Program**\n",
    "1. Ask user to enter the shape for which he or she want to compute area\n",
    "2. Check whether the input is correct.\n",
    "3. If yes\n",
    "    - Take input from user for the parameters require to compute the area\n",
    "    - Print the output\n",
    "3. If  no\n",
    "    - Ask user to give valid input\n",
    "     "
   ]
  },
  {
   "cell_type": "code",
   "execution_count": 1,
   "metadata": {},
   "outputs": [
    {
     "name": "stdout",
     "output_type": "stream",
     "text": [
      "Enter the shape for which you want to compute area:\n",
      " 1 for Triangle\n",
      " 2 for Rectangle\n",
      " 3 for Circle\n",
      "2\n",
      "Enter lenght of the rectangle 10\n",
      "Enter width of the rectangle 50\n",
      "Area of rectangle with length 10.0 and width 50.0 is 500.0 sq. cm\n"
     ]
    }
   ],
   "source": [
    "ch = int(input(\"Enter the shape for which you want to compute area:\\n 1 - for Triangle\\n 2 - for Rectangle\\n 3 - for Circle\\n\"))\n",
    "if ch is 1:\n",
    "    base = float(input(\"Enter base of the triangle: \"))\n",
    "    height = float(input(\"Enter height of the triangle: \"))\n",
    "    area1 = 0.5 * base * height\n",
    "    print(\"Area of triangle with base {} and height {} is {} sq. cm\".format(base,height,area1))\n",
    "    \n",
    "elif ch is 2:\n",
    "    leng = float(input(\"Enter lenght of the rectangle \"))\n",
    "    b = float(input(\"Enter width of the rectangle \"))\n",
    "    area2 = leng * b\n",
    "    print(\"Area of rectangle with length {} and width {} is {} sq. cm\".format(leng,b,area2))\n",
    "    \n",
    "elif ch is 3:\n",
    "    radius = float(input(\"Enter radius of the circle \"))\n",
    "    area = 3.14 * radius * radius\n",
    "    print(\"Area of the circle with radius {} is {} sq. cm\".format(radius,area,3.14*radius*radius))\n",
    "    \n",
    "else:\n",
    "    print(\"Invalid Input\")"
   ]
  },
  {
   "cell_type": "code",
   "execution_count": null,
   "metadata": {},
   "outputs": [],
   "source": []
  }
 ],
 "metadata": {
  "kernelspec": {
   "display_name": "Python 3",
   "language": "python",
   "name": "python3"
  },
  "language_info": {
   "codemirror_mode": {
    "name": "ipython",
    "version": 3
   },
   "file_extension": ".py",
   "mimetype": "text/x-python",
   "name": "python",
   "nbconvert_exporter": "python",
   "pygments_lexer": "ipython3",
   "version": "3.7.3"
  }
 },
 "nbformat": 4,
 "nbformat_minor": 2
}
