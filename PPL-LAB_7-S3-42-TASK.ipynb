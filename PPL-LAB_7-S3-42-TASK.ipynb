{
 "cells": [
  {
   "cell_type": "markdown",
   "metadata": {},
   "source": [
    "# LAB 7 \n",
    "## Task 1: Program to map two lists into a dictionary\n",
    "\n",
    "***Program Logic***\n",
    "1. Declare an empty `dicitonary`\n",
    "2. Declare two `list`\n",
    "3. Iterate the for loop to create the dictionary A. for key B for value\n",
    "4. Print the dictionary"
   ]
  },
  {
   "cell_type": "code",
   "execution_count": 2,
   "metadata": {},
   "outputs": [
    {
     "name": "stdout",
     "output_type": "stream",
     "text": [
      "Final Dictionary is {'A': 'Banana', 'B': 'Banana', 'C': 'Banana', 'D': 'Banana', 'E': 'Banana'}\n"
     ]
    }
   ],
   "source": [
    "myDict = {}\n",
    "key_list = [\"A\", \"B\", \"C\", \"D\", \"E\"]\n",
    "value_list = [\"Apple\", \"Banana\", \"Cat\", \"Dog\", \"Elephant\"]\n",
    "\n",
    "final_dict = {key_list[i]:value_list[1] for i in range(len(key_list))}\n",
    "\n",
    "print (\"Final Dictionary is {}\".format(final_dict))"
   ]
  },
  {
   "cell_type": "code",
   "execution_count": null,
   "metadata": {},
   "outputs": [],
   "source": []
  },
  {
   "cell_type": "markdown",
   "metadata": {},
   "source": [
    "# Task 2: Program to map one list into dictionary\n",
    "\n",
    "***Program Logic***\n",
    "\n",
    "1. Define a function to convert list into dictionary\n",
    "2. using dictionary comprehension\n",
    "3. Declare list\n",
    "4. print thre list\n"
   ]
  },
  {
   "cell_type": "code",
   "execution_count": 3,
   "metadata": {},
   "outputs": [
    {
     "name": "stdout",
     "output_type": "stream",
     "text": [
      "{'A': 'Apple', 'B': 'Banana', 'C': 'Cat', 'D': 'Dog', 'E': 'Elephant'}\n"
     ]
    }
   ],
   "source": [
    "def converter(list):\n",
    " myDict={list[i]: list[i+1] for i in range(0,len(list),2)}\n",
    " return myDict\n",
    "\n",
    "myList = [\"A\", \"Apple\", \"B\", \"Banana\", \"C\", \"Cat\", \"D\", \"Dog\", \"E\", \"Elephant\"]\n",
    "print(converter(myList))"
   ]
  },
  {
   "cell_type": "code",
   "execution_count": null,
   "metadata": {},
   "outputs": [],
   "source": []
  }
 ],
 "metadata": {
  "kernelspec": {
   "display_name": "Python 3",
   "language": "python",
   "name": "python3"
  },
  "language_info": {
   "codemirror_mode": {
    "name": "ipython",
    "version": 3
   },
   "file_extension": ".py",
   "mimetype": "text/x-python",
   "name": "python",
   "nbconvert_exporter": "python",
   "pygments_lexer": "ipython3",
   "version": "3.7.3"
  }
 },
 "nbformat": 4,
 "nbformat_minor": 2
}
