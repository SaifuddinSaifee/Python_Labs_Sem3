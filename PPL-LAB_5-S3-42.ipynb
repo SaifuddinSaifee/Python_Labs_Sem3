{
 "cells": [
  {
   "cell_type": "markdown",
   "metadata": {},
   "source": [
    "# LAB 5 : Program to count the occurence of each word in a given string sentence."
   ]
  },
  {
   "cell_type": "markdown",
   "metadata": {},
   "source": [
    "**Program Logic**"
   ]
  },
  {
   "cell_type": "markdown",
   "metadata": {},
   "source": [
    "1. Write a function to count the occurence of each word\n",
    "    1. Split the string into a list containing the words by using split function (i.e. `string.split()`) in pytrhon with delimiter space.\n",
    "\n",
    "    > ***NOTE*** : `string_name.split(seperator)` method is used to split the string by specified seperator(delimiter) into the list. **If the delimiter is not provided then white space is a seperator**\n",
    "\n",
    "    2. Initialize a new empty list.\n",
    "    \n",
    "    3. Now append the word to the new list from previous  string if that word is not present in the new list.\n",
    "    \n",
    "    4. Iterate over the new list and use count funtion\n",
    "    > ***NOTE*** : **`string_name.count(substring)` is used to find the number of occurences of substring in a given string**\n",
    "\n",
    "2. Write `main()` function to call the above function.\n",
    "\n",
    "3. Call `main()` function."
   ]
  },
  {
   "cell_type": "markdown",
   "metadata": {},
   "source": [
    "## Declare function to find the occurence of word in string"
   ]
  },
  {
   "cell_type": "code",
   "execution_count": 37,
   "metadata": {},
   "outputs": [],
   "source": [
    "def count_Words(inputList):\n",
    "    listA = inputList.split()\n",
    "    listB = []\n",
    "\n",
    "    \n",
    "    for i in listA:\n",
    "        if i not in listB:\n",
    "            listB.append(i)\n",
    "    \n",
    "    for i in listB:\n",
    "        print(\"{} is occuring in a sentence for {} time\" .format(i, listA.count(i)))\n",
    "    \n",
    "    return listB"
   ]
  },
  {
   "cell_type": "markdown",
   "metadata": {},
   "source": [
    "### Driver function"
   ]
  },
  {
   "cell_type": "code",
   "execution_count": 42,
   "metadata": {},
   "outputs": [],
   "source": [
    "def main():\n",
    "    fruit_list = \"apple mango banana banana pinapple lime lichi apple lichi pineapple apple\"\n",
    "    count_Words(fruit_list)"
   ]
  },
  {
   "cell_type": "markdown",
   "metadata": {},
   "source": [
    "### Driver function"
   ]
  },
  {
   "cell_type": "code",
   "execution_count": 44,
   "metadata": {},
   "outputs": [
    {
     "name": "stdout",
     "output_type": "stream",
     "text": [
      "apple is occuring in a sentence for 3 time\n",
      "mango is occuring in a sentence for 1 time\n",
      "banana is occuring in a sentence for 2 time\n",
      "pinapple is occuring in a sentence for 1 time\n",
      "lime is occuring in a sentence for 1 time\n",
      "lichi is occuring in a sentence for 2 time\n",
      "pineapple is occuring in a sentence for 1 time\n"
     ]
    }
   ],
   "source": [
    "if __name__ == '__main__':\n",
    "    main()"
   ]
  },
  {
   "cell_type": "markdown",
   "metadata": {},
   "source": [
    "## Theory\n",
    "\n",
    "- string data type \n",
    "- what is driver fucntion or driver code\n",
    "- count() function and split()"
   ]
  },
  {
   "cell_type": "markdown",
   "metadata": {},
   "source": [
    "### TASK:  Write a program to count the occurence of user input word in a given string sentence, also find the most occured word and least occured words in the given sentence\n",
    "\n",
    "> Use string sentence from any book or from any online blog"
   ]
  },
  {
   "cell_type": "code",
   "execution_count": null,
   "metadata": {},
   "outputs": [],
   "source": []
  }
 ],
 "metadata": {
  "kernelspec": {
   "display_name": "Python 3",
   "language": "python",
   "name": "python3"
  },
  "language_info": {
   "codemirror_mode": {
    "name": "ipython",
    "version": 3
   },
   "file_extension": ".py",
   "mimetype": "text/x-python",
   "name": "python",
   "nbconvert_exporter": "python",
   "pygments_lexer": "ipython3",
   "version": "3.7.3"
  }
 },
 "nbformat": 4,
 "nbformat_minor": 2
}
