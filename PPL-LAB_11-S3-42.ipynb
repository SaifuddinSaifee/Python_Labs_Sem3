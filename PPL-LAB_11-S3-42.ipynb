{
 "cells": [
  {
   "cell_type": "markdown",
   "metadata": {},
   "source": [
    "# LAB 11 : Program to compute the diameter, circumference, and volume of a sphere using class\n",
    "\n",
    "***Programming Logic***\n",
    "0. Import math library\n",
    "1. Define class sphere\n",
    "2. define methods\n",
    "    1. \\__init__\n",
    "    2. To compute diameter    (d = 2 * r)\n",
    "    3. To compute circumference    (C = 2 * pi * r)\n",
    "    4. To compute volume    (4/3 * pi * r)\n",
    "   \n",
    "3. Create object for class sphere as s1 and s2\n",
    "4. Calculate diameter, circumference, and volume for s1 and print it\n",
    "5. Calculate diameter, circumference, and volume for s2 and print it"
   ]
  },
  {
   "cell_type": "code",
   "execution_count": 10,
   "metadata": {},
   "outputs": [],
   "source": [
    "from math import pi"
   ]
  },
  {
   "cell_type": "markdown",
   "metadata": {},
   "source": [
    "### Define class"
   ]
  },
  {
   "cell_type": "code",
   "execution_count": 32,
   "metadata": {},
   "outputs": [],
   "source": [
    "class sphere:\n",
    "    # instance attribute\n",
    "    def __init__(self, rad):\n",
    "        self.rad = rad\n",
    "    \n",
    "    # function to compute diameter\n",
    "    def diameter(self):\n",
    "        return \"Diameter of sphere with radius {} = {}\".format(self.rad, 2*self.rad)\n",
    "    \n",
    "    # function to compute circumfernce\n",
    "    def circumfernce(self):\n",
    "        return \"Circumfernce of sphere with radius {} = {}\".format(self.rad, 2*pi*self.rad)\n",
    "    \n",
    "    # function to compute volume\n",
    "    def volume(self):\n",
    "        return \"Volume of sphere with radius {} = {}\".format(self.rad, 1.33*pi*self.rad)"
   ]
  },
  {
   "cell_type": "markdown",
   "metadata": {},
   "source": [
    "#### for s2 object"
   ]
  },
  {
   "cell_type": "code",
   "execution_count": 33,
   "metadata": {},
   "outputs": [
    {
     "data": {
      "text/plain": [
       "'Diameter of sphere with radius 5 = 10'"
      ]
     },
     "execution_count": 33,
     "metadata": {},
     "output_type": "execute_result"
    }
   ],
   "source": [
    "s1 = sphere(5)\n",
    "\n",
    "s1.diameter()\n",
    "\n"
   ]
  },
  {
   "cell_type": "code",
   "execution_count": 34,
   "metadata": {},
   "outputs": [
    {
     "data": {
      "text/plain": [
       "'Circumfernce of sphere with radius 5 = 31.41592653589793'"
      ]
     },
     "execution_count": 34,
     "metadata": {},
     "output_type": "execute_result"
    }
   ],
   "source": [
    "s1.circumfernce()\n"
   ]
  },
  {
   "cell_type": "code",
   "execution_count": 35,
   "metadata": {},
   "outputs": [
    {
     "data": {
      "text/plain": [
       "'Volume of sphere with radius 5 = 20.891591146372125'"
      ]
     },
     "execution_count": 35,
     "metadata": {},
     "output_type": "execute_result"
    }
   ],
   "source": [
    "s1.volume()"
   ]
  },
  {
   "cell_type": "markdown",
   "metadata": {},
   "source": [
    "#### for s2 object"
   ]
  },
  {
   "cell_type": "code",
   "execution_count": 29,
   "metadata": {},
   "outputs": [
    {
     "data": {
      "text/plain": [
       "'Diameter of sphere with radius 7 = 14'"
      ]
     },
     "execution_count": 29,
     "metadata": {},
     "output_type": "execute_result"
    }
   ],
   "source": [
    "s2 = sphere(7)\n",
    "\n",
    "s2.diameter()\n"
   ]
  },
  {
   "cell_type": "code",
   "execution_count": 30,
   "metadata": {},
   "outputs": [
    {
     "data": {
      "text/plain": [
       "'Circumfernce of sphere with radius 7 = 43.982297150257104'"
      ]
     },
     "execution_count": 30,
     "metadata": {},
     "output_type": "execute_result"
    }
   ],
   "source": [
    "s2.circumfernce()"
   ]
  },
  {
   "cell_type": "code",
   "execution_count": 31,
   "metadata": {},
   "outputs": [
    {
     "data": {
      "text/plain": [
       "'Volume of sphere with radius 7 = 29.248227604920977'"
      ]
     },
     "execution_count": 31,
     "metadata": {},
     "output_type": "execute_result"
    }
   ],
   "source": [
    "s2.volume()"
   ]
  },
  {
   "cell_type": "code",
   "execution_count": null,
   "metadata": {},
   "outputs": [],
   "source": []
  }
 ],
 "metadata": {
  "kernelspec": {
   "display_name": "Python 3",
   "language": "python",
   "name": "python3"
  },
  "language_info": {
   "codemirror_mode": {
    "name": "ipython",
    "version": 3
   },
   "file_extension": ".py",
   "mimetype": "text/x-python",
   "name": "python",
   "nbconvert_exporter": "python",
   "pygments_lexer": "ipython3",
   "version": "3.7.3"
  }
 },
 "nbformat": 4,
 "nbformat_minor": 2
}
