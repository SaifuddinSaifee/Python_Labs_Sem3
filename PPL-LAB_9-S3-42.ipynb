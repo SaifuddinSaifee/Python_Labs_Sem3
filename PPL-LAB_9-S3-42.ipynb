{
 "cells": [
  {
   "cell_type": "markdown",
   "metadata": {},
   "source": [
    "# LAB 9 : Program to create a dictionary with key as first character\n",
    "\n",
    "**Program logic**\n",
    "\n",
    "1. Define function to create a dictionary containing character as key and word as its value\n",
    "    1. Send one parameter as string \n",
    "    2. Inside function we required declare empty dictionary\n",
    "    3. Split the string into words and store it into list\n",
    "    4. Iterate for loop over the str and checkif word is present in dictionary as a key\n",
    "        1. if it is not present "
   ]
  },
  {
   "cell_type": "code",
   "execution_count": 17,
   "metadata": {},
   "outputs": [
    {
     "name": "stdout",
     "output_type": "stream",
     "text": [
      "Enter the string: He gave me a glass of milk\n",
      "{'H': ['He'], 'g': ['gave', 'glass'], 'm': ['me', 'milk'], 'a': ['a'], 'o': ['of']}\n"
     ]
    }
   ],
   "source": [
    "str = input(\"Enter the string: \") #  input = He gave me a glass of milk\n",
    "\n",
    "str = str.split()\n",
    "\n",
    "dict = {}\n",
    "\n",
    "for i in range(len(str)):\n",
    "    \n",
    "    if (str[i][0] not in dict):\n",
    "        dict[str[i][0]] = []\n",
    "        dict[str[i][0]].append(str[i])\n",
    "        \n",
    "    elif (str[i][0] in dict):\n",
    "        dict[str[i][0]].append(str[i])\n",
    "\n",
    "print(dict)"
   ]
  },
  {
   "cell_type": "markdown",
   "metadata": {},
   "source": [
    "# TASK : Write a program create a nested dictionary which contains serial number as key and value as dictionary record of person. In value dictionary, the key are name, age, sex, and mobile number, The values are corresponding information of person.\n",
    "\n",
    "**INPUT** : take a list\n",
    "list_1 = [\"Name\", \"age\", \"sex\", \"mobile\"]\n",
    "\n",
    "how many person you want to enter\n",
    "\n",
    "**OUTPUT** : dict = {1:{'name' = 'saif', 'age'='30', 'sex' = 'Male', 'number' = '9405106633'}, 2 : {'name' = 'Jurtaza', 'age'='26', 'sex' = 'Male', 'number' = '8888076754'}}"
   ]
  },
  {
   "cell_type": "markdown",
   "metadata": {},
   "source": [
    "# TASK 2: Write a program to create a nested dictionary with key as a first character and value as dictionary containing word as key and its frequency as  that value.\n",
    "\n",
    "> ***NOTE*** : Take Input as paragraph"
   ]
  },
  {
   "cell_type": "markdown",
   "metadata": {},
   "source": [
    "# THEORY\n",
    "Q. Dictionary\n",
    "\n",
    "Q. How to create a nested dictionary\n",
    "\n",
    "Q. How to access nested dictionary elements"
   ]
  },
  {
   "cell_type": "code",
   "execution_count": null,
   "metadata": {},
   "outputs": [],
   "source": []
  }
 ],
 "metadata": {
  "kernelspec": {
   "display_name": "Python 3",
   "language": "python",
   "name": "python3"
  },
  "language_info": {
   "codemirror_mode": {
    "name": "ipython",
    "version": 3
   },
   "file_extension": ".py",
   "mimetype": "text/x-python",
   "name": "python",
   "nbconvert_exporter": "python",
   "pygments_lexer": "ipython3",
   "version": "3.7.3"
  }
 },
 "nbformat": 4,
 "nbformat_minor": 2
}
